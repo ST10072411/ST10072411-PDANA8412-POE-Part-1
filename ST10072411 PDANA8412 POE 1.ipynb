{
 "cells": [
  {
   "cell_type": "markdown",
   "id": "54649341-6a92-47a4-a7eb-ad793e12141c",
   "metadata": {},
   "source": [
    "#ST10072411 \n",
    "#Developed by: Brice Agnew\n",
    "#25/9/2025\n",
    "\n",
    "This project is to be a hybrid Stylometric Neural Network (using LSTM architecture) and a 'Retrieval Augmented Generation' (RAG) Chatbot program, \n",
    "designed to identify the style of writing from given inputs, and interact with the user in fun and harmless ways\n",
    "\n",
    "The problem proposed, that being predicting a label (Author/style) based on nominal or ordinal data(Text input/literature excerpts), seems to inherently be a classification problem, and thus LSTM model was deemed ideal for usage.\n",
    "\n",
    "\n",
    "\n"
   ]
  },
  {
   "cell_type": "code",
   "execution_count": 1,
   "id": "3975b0ac-28e3-4a7f-bb31-487ab72dd9b0",
   "metadata": {},
   "outputs": [
    {
     "name": "stdout",
     "output_type": "stream",
     "text": [
      "Name: pyspark\n",
      "Version: 3.2.1\n",
      "Summary: Apache Spark Python API\n",
      "Home-page: https://github.com/apache/spark/tree/master/python\n",
      "Author: Spark Developers\n",
      "Author-email: dev@spark.apache.org\n",
      "License: http://www.apache.org/licenses/LICENSE-2.0\n",
      "Location: c:\\users\\brice\\anaconda3\\envs\\spark_env\\lib\\site-packages\n",
      "Requires: py4j\n",
      "Required-by: \n",
      "Note: you may need to restart the kernel to use updated packages.\n"
     ]
    }
   ],
   "source": [
    "pip show pyspark"
   ]
  },
  {
   "cell_type": "code",
   "execution_count": 2,
   "id": "1ad48afd-b072-4e24-b618-ac33400bbdca",
   "metadata": {},
   "outputs": [
    {
     "name": "stdout",
     "output_type": "stream",
     "text": [
      "Name: py4j\n",
      "Version: 0.10.9.3\n",
      "Summary: Enables Python programs to dynamically access arbitrary Java objects\n",
      "Home-page: https://www.py4j.org/\n",
      "Author: Barthelemy Dagenais\n",
      "Author-email: barthelemy@infobart.com\n",
      "License: BSD License\n",
      "Location: c:\\users\\brice\\anaconda3\\envs\\spark_env\\lib\\site-packages\n",
      "Requires: \n",
      "Required-by: pyspark\n",
      "Note: you may need to restart the kernel to use updated packages.\n"
     ]
    }
   ],
   "source": [
    "pip show py4j"
   ]
  },
  {
   "cell_type": "code",
   "execution_count": 3,
   "id": "a49055d5-a4ec-4a4f-b494-275f6ae9be0a",
   "metadata": {},
   "outputs": [],
   "source": [
    "from pyspark import SparkContext\n",
    "\n",
    "if SparkContext._active_spark_context is not None:\n",
    "    SparkContext._active_spark_context.stop()\n"
   ]
  },
  {
   "cell_type": "code",
   "execution_count": 4,
   "id": "daf18e79-d9e9-4d36-b2de-dea5e1a992af",
   "metadata": {},
   "outputs": [
    {
     "name": "stderr",
     "output_type": "stream",
     "text": [
      "C:\\Users\\brice\\anaconda3\\envs\\spark_env\\lib\\site-packages\\requests\\__init__.py:86: RequestsDependencyWarning: Unable to find acceptable character detection dependency (chardet or charset_normalizer).\n",
      "  warnings.warn(\n",
      "C:\\Users\\brice\\anaconda3\\envs\\spark_env\\lib\\site-packages\\h5py\\__init__.py:36: UserWarning: h5py is running against HDF5 1.14.6 when it was built against 1.14.5, this may cause problems\n",
      "  _warn((\"h5py is running against HDF5 {0} when it was built against {1}, \"\n"
     ]
    }
   ],
   "source": [
    "#IMPORTS\n",
    "import sys\n",
    "import os\n",
    "import re\n",
    "import numpy as np\n",
    "import pandas as pd\n",
    "from importlib import metadata\n",
    "import matplotlib.pyplot as plt\n",
    "\n",
    "import random\n",
    "\n",
    "from pyspark.sql import SparkSession\n",
    "from pyspark.sql import Row\n",
    "from pyspark.sql.functions import split\n",
    "from pyspark.sql.functions import explode, posexplode, col, udf\n",
    "from pyspark.sql.types import ArrayType, StringType \n",
    "\n",
    "from tensorflow.keras.preprocessing.text import Tokenizer\n",
    "from tensorflow.keras.preprocessing.sequence import pad_sequences\n",
    "\n",
    "from tensorflow.keras.models import Sequential\n",
    "from tensorflow.keras.layers import Embedding, LSTM, Dense, Dropout\n",
    "\n",
    "\n",
    "from sklearn.feature_extraction.text import TfidfVectorizer\n",
    "\n",
    "from sklearn.preprocessing import LabelEncoder\n",
    "from tensorflow.keras.utils import to_categorical\n",
    "\n",
    "from sklearn.metrics.pairwise import cosine_similarity\n",
    "\n",
    "\n",
    "\n",
    "\n",
    "# Path of the Python executable in the conda env\n",
    "os.environ[\"PYSPARK_PYTHON\"] = sys.executable\n",
    "os.environ[\"PYSPARK_DRIVER_PYTHON\"] = sys.executable\n",
    "\n",
    "\n",
    "\n",
    "os.environ[\"JAVA_HOME\"] = r\"C:/Java/jdk-11.0.28.6-hotspot\"\n",
    "os.environ[\"SPARK_HOME\"] = r\"C:/spark/spark-3.2.1-bin-hadoop3.2\"\n",
    "os.environ[\"HADOOP_HOME\"] = r\"C:/spark/spark-3.2.1-bin-hadoop3.2\"\n",
    "os.environ[\"SPARK_LOCAL_IP\"] = \"127.0.0.1\"\n",
    "\n",
    "os.environ[\"PATH\"] = os.environ[\"JAVA_HOME\"] + \"/bin;\" + os.environ[\"SPARK_HOME\"] + \"/bin;\" + os.environ[\"PATH\"]\n",
    "\n",
    "\n",
    "\n",
    "spark = SparkSession.builder \\\n",
    "    .appName(\"AuthorPrediction\") \\\n",
    "    .master(\"local[*]\") \\\n",
    "    .config(\"spark.driver.bindAddress\", \"127.0.0.1\") \\\n",
    "    .config(\"spark.driver.host\", \"127.0.0.1\") \\\n",
    "    .config(\"spark.hadoop.hadoop.native.io\", \"false\") \\\n",
    "    .config(\"spark.driver.memory\", \"10g\")\\\n",
    "    .getOrCreate()\n",
    "\n",
    "\n",
    "\n"
   ]
  },
  {
   "cell_type": "code",
   "execution_count": 5,
   "id": "c8e525d3-aced-46be-a8ca-d9b3837b6c30",
   "metadata": {},
   "outputs": [
    {
     "name": "stdout",
     "output_type": "stream",
     "text": [
      "Spark version: 3.2.1\n",
      "----\n",
      "Python version: 3.10.18 | packaged by Anaconda, Inc. | (main, Jun  5 2025, 13:08:55) [MSC v.1929 64 bit (AMD64)]\n",
      "----\n",
      "Numpy version: 1.23.5\n",
      "----\n",
      "Pandas version: 1.5.3\n",
      "----\n",
      "Name: tensorflow\n",
      "Tensorflow version: 2.11.0\n",
      "----\n"
     ]
    }
   ],
   "source": [
    "print(\"Spark version:\", spark.version)\n",
    "print(\"----\")\n",
    "print(\"Python version:\", sys.version)\n",
    "print(\"----\")\n",
    "print(\"Numpy version:\", np.__version__)\n",
    "print(\"----\")\n",
    "print(\"Pandas version:\",pd.__version__)\n",
    "print(\"----\")\n",
    "try:\n",
    "   dist = metadata.distribution(\"tensorflow\")\n",
    "   print(\"Name:\", dist.metadata[\"Name\"])\n",
    "   print(\"Tensorflow version:\", dist.version)\n",
    "except metadata.PackageNotFoundError:\n",
    "    print(\"TensorFlow is not installed.\")\n",
    "print(\"----\")"
   ]
  },
  {
   "cell_type": "code",
   "execution_count": 6,
   "id": "d4f5f4ad-44ab-465d-954b-e0a459a46c03",
   "metadata": {},
   "outputs": [
    {
     "name": "stdout",
     "output_type": "stream",
     "text": [
      "Current working directory: C:\\Users\\brice\\Desktop\\UNI WORK\\PostGrad\\Semester 2\\PDANA8412\\POE\\Books\n"
     ]
    }
   ],
   "source": [
    "cwd = os.getcwd()\n",
    "print(\"Current working directory:\", cwd)"
   ]
  },
  {
   "cell_type": "code",
   "execution_count": null,
   "id": "e47603c5-f0db-4dca-a74c-59e94d309363",
   "metadata": {},
   "outputs": [],
   "source": []
  },
  {
   "cell_type": "markdown",
   "id": "9295d1e5-c7f1-4ecb-80c3-d4f058406b18",
   "metadata": {},
   "source": [
    "#SECTION 1: Data Collection & Processing\n",
    "\n",
    "This section is primarily concerned with aggregating the literature files that have been packaged with this file, converting them into a usable format, cleaning the data and generally preparing the data to be used in both training the Long-Short Term Memory (LSTM) model, and infroming the RAG-chatbot functionality later in the program."
   ]
  },
  {
   "cell_type": "code",
   "execution_count": 7,
   "id": "391f6adf-7336-4713-97fe-7a26aac469d7",
   "metadata": {},
   "outputs": [],
   "source": [
    "#Data Collection\n",
    "\n",
    "#Gets the current working directory(CWD)\n",
    "cwd = os.getcwd()\n",
    "\n",
    "#This function defines the logic for loading a plain-text literary work into the pipeline (initially as list obnjects)\n",
    "#for use in natural language processing and training. \n",
    "def load_books(data_dir):\n",
    "    texts = []\n",
    "    labels = []\n",
    "    for author in os.listdir(data_dir):\n",
    "        author_dir = os.path.join(data_dir, author)\n",
    "        for file in os.listdir(author_dir):\n",
    "            with open(os.path.join(author_dir, file), 'r', encoding='utf-8') as f:\n",
    "                text = f.read()\n",
    "                texts.append(text)\n",
    "                labels.append(author)\n",
    "    return texts, labels\n",
    "\n",
    "texts, labels = load_books(cwd+'/Data')\n"
   ]
  },
  {
   "cell_type": "code",
   "execution_count": 8,
   "id": "c94e5542-23b8-4d21-bf70-6eeab8467681",
   "metadata": {},
   "outputs": [],
   "source": [
    "# Concatenate all books into one big corpus, to be used in the chatbot\n",
    "with open(\"literature_corpus.txt\", \"w\", encoding=\"utf-8\") as f:\n",
    "    for text in texts:\n",
    "        f.write(text.strip() + \"\\n\\n\")  # double newline between works\n"
   ]
  },
  {
   "cell_type": "code",
   "execution_count": 9,
   "id": "3128dc6c-e44e-4491-918d-b464aa1d91b4",
   "metadata": {
    "scrolled": true
   },
   "outputs": [
    {
     "name": "stdout",
     "output_type": "stream",
     "text": [
      "Book [0] :\n",
      "Author: Austen\n",
      "Text: ﻿\n",
      "Northanger Abbey\n",
      "\n",
      "\n",
      "by Jane Austen\n",
      "\n",
      "(1803)\n",
      "\n",
      "\n",
      "\n",
      "\n",
      "Contents\n",
      "\n",
      "\n",
      " ADVERTISEMENT BY THE AUTHORESS, TO NORTHANGER ABBEY\n",
      "\n",
      " CHAPTER 1\n",
      " CHAPTER 2\n",
      " CHAPTER 3\n",
      " CHAPTER 4\n",
      " CHAPTER 5\n",
      " CHAPTER 6\n",
      " CHAPTER 7\n",
      " CHAPTER 8 ...\n",
      "Length: 434006\n",
      "\n",
      "------------------------\n",
      "Book [1] :\n",
      "Author: Austen\n",
      "Text: ﻿\n",
      "Persuasion\n",
      "\n",
      "\n",
      "by Jane Austen\n",
      "\n",
      "(1818)\n",
      "\n",
      "\n",
      "\n",
      "\n",
      "Contents\n",
      "\n",
      "\n",
      " CHAPTER I.\n",
      " CHAPTER II.\n",
      " CHAPTER III.\n",
      " CHAPTER IV.\n",
      " CHAPTER V.\n",
      " CHAPTER VI.\n",
      " CHAPTER VII.\n",
      " CHAPTER VIII.\n",
      " CHAPTER IX.\n",
      " CHAPTER X.\n",
      " CHAPTER XI.\n",
      " CH ...\n",
      "Length: 464833\n",
      "\n",
      "------------------------\n",
      "Book [2] :\n",
      "Author: Austen\n",
      "Text: ﻿\n",
      "\n",
      "\n",
      "                                PRIDE.\n",
      "                                  and\n",
      "                               PREJUDICE\n",
      "\n",
      "                                  by\n",
      "                             Jane Austen ...\n",
      "Length: 728313\n",
      "\n",
      "------------------------\n",
      "Book [3] :\n",
      "Author: Austen\n",
      "Text: ﻿\n",
      "\n",
      "\n",
      "\n",
      "                         Transcriber's Note:\n",
      "\n",
      "The Table of Contents is not part of the original book. The illustration\n",
      "on page 290 is missing from the book. The Introduction ends abruptly.\n",
      "Seems  ...\n",
      "Length: 690088\n",
      "\n",
      "------------------------\n",
      "Book [4] :\n",
      "Author: Dickens\n",
      "Text: ﻿\n",
      "\n",
      "\n",
      "\n",
      "Produced by Jason Isbell and the Online Distributed\n",
      "Proofreading Team at http://www.pgdp.net\n",
      "\n",
      "\n",
      "\n",
      "\n",
      "\n",
      "\n",
      "\n",
      "A CHRISTMAS CAROL\n",
      "\n",
      "By CHARLES DICKENS\n",
      "\n",
      "ILLUSTRATED BY\n",
      "GEORGE ALFRED WILLIAMS\n",
      "\n",
      "New York\n",
      "THE PLAT ...\n",
      "Length: 163540\n",
      "\n",
      "------------------------\n",
      "Book [5] :\n",
      "Author: Dickens\n",
      "Text: ﻿\n",
      "\n",
      "\n",
      "\n",
      "DAVID COPPERFIELD\n",
      "\n",
      "\n",
      "By Charles Dickens\n",
      "\n",
      "\n",
      "\n",
      "\n",
      "               AFFECTIONATELY INSCRIBED\n",
      "                             TO\n",
      "               THE HON. Mr. AND Mrs. RICHARD WATSON,\n",
      "                            ...\n",
      "Length: 1934735\n",
      "\n",
      "------------------------\n",
      "Book [6] :\n",
      "Author: Dickens\n",
      "Text: ﻿\n",
      "\n",
      "Great Expectations\n",
      "\n",
      "[1867 Edition]\n",
      "\n",
      "by Charles Dickens\n",
      "\n",
      "\n",
      "Contents\n",
      "\n",
      " Chapter I.\n",
      " Chapter II.\n",
      " Chapter III.\n",
      " Chapter IV.\n",
      " Chapter V.\n",
      " Chapter VI.\n",
      " Chapter VII.\n",
      " Chapter VIII.\n",
      " Chapter IX.\n",
      " Chapter X. ...\n",
      "Length: 994604\n",
      "\n",
      "------------------------\n",
      "Book [7] :\n",
      "Author: Dickens\n",
      "Text: ﻿\n",
      "\n",
      "\n",
      "\n",
      "Oliver Twist\n",
      "\n",
      "OR\n",
      "THE PARISH BOY’S PROGRESS\n",
      "\n",
      "by Charles Dickens\n",
      "\n",
      "\n",
      "Contents\n",
      "\n",
      "I        TREATS OF THE PLACE WHERE OLIVER TWIST WAS BORN AND OF THE\n",
      "         CIRCUMSTANCES ATTENDING HIS BIRTH\n",
      "II        ...\n",
      "Length: 893170\n",
      "\n",
      "------------------------\n",
      "Book [8] :\n",
      "Author: Eliot\n",
      "Text: ﻿\n",
      "\n",
      "\n",
      "\n",
      "Middlemarch\n",
      "\n",
      "George Eliot\n",
      "\n",
      "New York and Boston\n",
      "H. M. Caldwell Company Publishers\n",
      "\n",
      "To my dear Husband, George Henry Lewes,\n",
      "in this nineteenth year of our blessed union.\n",
      "\n",
      "\n",
      "Contents\n",
      "\n",
      " PRELUDE.\n",
      "\n",
      " BOO ...\n",
      "Length: 1780187\n",
      "\n",
      "------------------------\n",
      "Book [9] :\n",
      "Author: Eliot\n",
      "Text: ﻿cover\n",
      "\n",
      "\n",
      "The Mill on the Floss\n",
      "\n",
      "\n",
      "\n",
      "by George Eliot\n",
      "\n",
      "\n",
      "\n",
      "“In their death they were not divided.”\n",
      "\n",
      "\n",
      "\n",
      "Contents\n",
      "\n",
      "\n",
      "BOOK FIRST. BOY AND GIRL.\n",
      "\n",
      " Chapter I. Outside Dorlcote Mill\n",
      " Chapter II. Mr Tulliver, of Dor ...\n",
      "Length: 1141579\n",
      "\n",
      "------------------------\n",
      "Book [10] :\n",
      "Author: Melville\n",
      "Text: ﻿Bartleby, The Scrivener\n",
      "\n",
      "A STORY OF WALL-STREET.\n",
      "\n",
      "by Herman Melville\n",
      "\n",
      "\n",
      "\n",
      "\n",
      "I am a rather elderly man. The nature of my avocations for the last\n",
      "thirty years has brought me into more than ordinary contac ...\n",
      "Length: 81840\n",
      "\n",
      "------------------------\n",
      "Book [11] :\n",
      "Author: Melville\n",
      "Text: ﻿\n",
      "\n",
      "MOBY-DICK;\n",
      "\n",
      "or, THE WHALE.\n",
      "\n",
      "By Herman Melville\n",
      "\n",
      "\n",
      "\n",
      "CONTENTS\n",
      "\n",
      "ETYMOLOGY.\n",
      "\n",
      "EXTRACTS (Supplied by a Sub-Sub-Librarian).\n",
      "\n",
      "CHAPTER 1. Loomings.\n",
      "\n",
      "CHAPTER 2. The Carpet-Bag.\n",
      "\n",
      "CHAPTER 3. The Spouter-Inn.\n",
      "\n",
      "C ...\n",
      "Length: 1218947\n",
      "\n",
      "------------------------\n",
      "Book [12] :\n",
      "Author: Melville\n",
      "Text: ﻿White-Jacket\n",
      "OR\n",
      "THE WORLD IN A MAN-OF-WAR\n",
      "\n",
      "by Herman Melville\n",
      "\n",
      "AUTHOR OF “TYPEE,” “OMOO,” AND “MOBY-DICK”\n",
      "\n",
      "NEW YORK\n",
      "\n",
      "UNITED STATES BOOK COMPANY\n",
      "\n",
      "5 AND 7 EAST SIXTEENTH STREET\n",
      "\n",
      "       *       *        ...\n",
      "Length: 817322\n",
      "\n",
      "------------------------\n",
      "Book [13] :\n",
      "Author: Shakespeare\n",
      "Text: ﻿\n",
      "\n",
      "\n",
      "The Complete Works of William Shakespeare\n",
      "\n",
      "by William Shakespeare\n",
      "\n",
      "\n",
      "\n",
      "\n",
      "                    Contents\n",
      "\n",
      "    THE SONNETS\n",
      "    ALL’S WELL THAT ENDS WELL\n",
      "    THE TRAGEDY OF ANTONY AND CLEOPATRA\n",
      "    AS YOU ...\n",
      "Length: 5359350\n",
      "\n",
      "------------------------\n",
      "Book [14] :\n",
      "Author: Shelley\n",
      "Text: ﻿\n",
      "\n",
      "Frankenstein;\n",
      "\n",
      "or, the Modern Prometheus\n",
      "\n",
      "by Mary Wollstonecraft (Godwin) Shelley\n",
      "\n",
      "\n",
      " CONTENTS\n",
      "\n",
      " Letter 1\n",
      " Letter 2\n",
      " Letter 3\n",
      " Letter 4\n",
      " Chapter 1\n",
      " Chapter 2\n",
      " Chapter 3\n",
      " Chapter 4\n",
      " Chapter 5\n",
      " Chapte ...\n",
      "Length: 419342\n",
      "\n",
      "------------------------\n",
      "Book [15] :\n",
      "Author: Shelley\n",
      "Text: ﻿\n",
      "\n",
      "\n",
      "\n",
      "\n",
      "\n",
      "\n",
      "\n",
      "\n",
      "                                  THE\n",
      "\n",
      "                        TREASURE HOUSE OF TALES\n",
      "\n",
      "                                   BY\n",
      "\n",
      "                             GREAT AUTHORS\n",
      "\n",
      "                    ...\n",
      "Length: 729091\n",
      "\n",
      "------------------------\n",
      "Book [16] :\n",
      "Author: Shelley\n",
      "Text: ﻿\n",
      "\n",
      "\n",
      "\n",
      "The Last Man\n",
      "\n",
      "by Mary Wollstonecraft Shelley\n",
      "\n",
      "LONDON:\n",
      "HENRY COLBURN.\n",
      "1826.\n",
      "\n",
      "\n",
      "Contents\n",
      "\n",
      " VOL. I.\n",
      " INTRODUCTION.\n",
      " CHAPTER I.\n",
      " CHAPTER II.\n",
      " CHAPTER III.\n",
      " CHAPTER IV.\n",
      " CHAPTER IV.\n",
      " CHAPTER V.\n",
      " CHAPTE ...\n",
      "Length: 999993\n",
      "\n",
      "------------------------\n",
      "Book [17] :\n",
      "Author: Twain\n",
      "Text: ﻿\n",
      "\n",
      "\n",
      "\n",
      "ADVENTURES\n",
      "OF\n",
      "HUCKLEBERRY FINN\n",
      "\n",
      "(Tom Sawyer’s Comrade)\n",
      "\n",
      "By Mark Twain\n",
      "\n",
      "\n",
      "\n",
      "\n",
      "CONTENTS.\n",
      "\n",
      "CHAPTER I.\n",
      "Civilizing Huck.—Miss Watson.—Tom Sawyer Waits.\n",
      "\n",
      "CHAPTER II.\n",
      "The Boys Escape Jim.—Torn Sawyer’s Gan ...\n",
      "Length: 571061\n",
      "\n",
      "------------------------\n",
      "Book [18] :\n",
      "Author: Twain\n",
      "Text: ﻿\n",
      "Produced by David Widger. Earliest PG text edition produced by Graham\n",
      "Allan\n",
      "\n",
      "\n",
      "\n",
      "\n",
      "LIFE ON THE MISSISSIPPI\n",
      "\n",
      "By Mark Twain\n",
      "\n",
      "\n",
      "\n",
      "\n",
      "TABLE OF CONTENTS\n",
      "\n",
      "CHAPTER I. The Mississippi is Well worth Reading about.- ...\n",
      "Length: 808342\n",
      "\n",
      "------------------------\n",
      "Book [19] :\n",
      "Author: Twain\n",
      "Text: ﻿\n",
      "\n",
      "\n",
      "THE ADVENTURES OF TOM SAWYER\n",
      "\n",
      "\n",
      "By Mark Twain\n",
      "\n",
      "(Samuel Langhorne Clemens)\n",
      "\n",
      "\n",
      "\n",
      "\n",
      "CONTENTS\n",
      "\n",
      "\n",
      "CHAPTER I. Y-o-u-u Tom—Aunt Polly Decides Upon her Duty—Tom Practices\n",
      "Music—The Challenge—A Private Entrance ...\n",
      "Length: 392742\n",
      "\n",
      "------------------------\n"
     ]
    }
   ],
   "source": [
    "#Checking to see if the files are correctly loaded.\n",
    "\n",
    "\n",
    "for i in range(len(labels)):\n",
    "#checks the Author\n",
    "    print(\"Book\", [i], \":\")\n",
    "    \n",
    "    print(\"Author:\",labels[i])\n",
    "\n",
    "# Display the first 200 characters of the text at index 'i'\n",
    "    print(\"Text:\",texts[i][:200],\"...\")\n",
    "\n",
    "# Count the total number of characters in the text at index 'i'\n",
    "    print(\"Length:\",len(texts[i]))\n",
    "    print()\n",
    "\n",
    "    print(\"------------------------\")\n",
    "\n",
    "#In total about 20 books are used in this project"
   ]
  },
  {
   "cell_type": "code",
   "execution_count": 10,
   "id": "bbc05f84-d75d-40d7-8643-eafaf0b55ee0",
   "metadata": {},
   "outputs": [],
   "source": [
    "#Data Cleaning:\n",
    "\n",
    "def clean_text(text):\n",
    "    # Lowercase\n",
    "    text = text.lower()\n",
    "    # Remove non-alphabetic characters (keep spaces)\n",
    "    text = re.sub(r'[^a-z\\s]', '', text)\n",
    "    # Replace multiple spaces with a single space\n",
    "    text = re.sub(r'\\s+', ' ', text)\n",
    "    return text\n",
    "\n",
    "\n"
   ]
  },
  {
   "cell_type": "code",
   "execution_count": 11,
   "id": "2d3583f9-7afb-451f-9b27-5cc37d8edc91",
   "metadata": {
    "scrolled": true
   },
   "outputs": [
    {
     "name": "stdout",
     "output_type": "stream",
     "text": [
      "+--------------------------------------------------------------------------------------------------------------------------------------------------------------------------------------------------------+------+\n",
      "|                                                                                                                                                                                                    text|author|\n",
      "+--------------------------------------------------------------------------------------------------------------------------------------------------------------------------------------------------------+------+\n",
      "|﻿\\nNorthanger Abbey\\n\\n\\nby Jane Austen\\n\\n(1803)\\n\\n\\n\\n\\nContents\\n\\n\\n ADVERTISEMENT BY THE AUTHORESS, TO NORTHANGER ABBEY\\n\\n CHAPTER 1\\n CHAPTER 2\\n CHAPTER 3\\n CHAPTER 4\\n CHAPTER 5\\n CHAPTER...|Austen|\n",
      "|﻿\\nPersuasion\\n\\n\\nby Jane Austen\\n\\n(1818)\\n\\n\\n\\n\\nContents\\n\\n\\n CHAPTER I.\\n CHAPTER II.\\n CHAPTER III.\\n CHAPTER IV.\\n CHAPTER V.\\n CHAPTER VI.\\n CHAPTER VII.\\n CHAPTER VIII.\\n CHAPTER IX.\\n C...|Austen|\n",
      "|﻿\\n\\n\\n                                PRIDE.\\n                                  and\\n                               PREJUDICE\\n\\n                                  by\\n                             ...|Austen|\n",
      "+--------------------------------------------------------------------------------------------------------------------------------------------------------------------------------------------------------+------+\n",
      "only showing top 3 rows\n",
      "\n"
     ]
    }
   ],
   "source": [
    "#Dataframe creation:\n",
    "\n",
    "rows = [Row(text=text, author=label) for text, label in zip(texts, labels)]\n",
    "book_df = spark.createDataFrame(rows)\n",
    "book_df.show(3, truncate=200)\n"
   ]
  },
  {
   "cell_type": "code",
   "execution_count": 12,
   "id": "a417fd21-22f6-459f-bb78-e11fe3e437d8",
   "metadata": {},
   "outputs": [
    {
     "name": "stdout",
     "output_type": "stream",
     "text": [
      "+--------------------+------+--------------------+\n",
      "|                text|author|          clean_text|\n",
      "+--------------------+------+--------------------+\n",
      "|﻿\\nNorthanger Abb...|Austen| northanger abbey...|\n",
      "|﻿\\nPersuasion\\n\\n...|Austen| persuasion by ja...|\n",
      "|﻿\\n\\n\\n          ...|Austen| pride and prejud...|\n",
      "+--------------------+------+--------------------+\n",
      "only showing top 3 rows\n",
      "\n"
     ]
    }
   ],
   "source": [
    "# Registering the 'clean_text' function as a User Defined Function\n",
    "clean_text_udf = udf(lambda x: clean_text(x), StringType())\n",
    "\n",
    "# Apply it to the 'text' column\n",
    "book_df_clean = book_df.withColumn(\"clean_text\", clean_text_udf(book_df.text))\n",
    "book_df_clean.show(3)\n",
    "\n"
   ]
  },
  {
   "cell_type": "markdown",
   "id": "b8e86f6a-9040-4b4c-a7da-34b1a7fe8dc6",
   "metadata": {},
   "source": [
    "#SECTION 2: Tokenization\n",
    "#This code and the following section is necessary for rendering the data in a way that is more interpretable to machine learning algorithms \n",
    "and Neural networks.\n",
    " \n"
   ]
  },
  {
   "cell_type": "code",
   "execution_count": 13,
   "id": "3087ae27-a9a3-4cdf-a4d5-7c5d48c6bcae",
   "metadata": {},
   "outputs": [
    {
     "name": "stdout",
     "output_type": "stream",
     "text": [
      "+--------------------+------+--------------------+--------------------+\n",
      "|                text|author|          clean_text|              tokens|\n",
      "+--------------------+------+--------------------+--------------------+\n",
      "|﻿\\nNorthanger Abb...|Austen| northanger abbey...|[, northanger, ab...|\n",
      "|﻿\\nPersuasion\\n\\n...|Austen| persuasion by ja...|[, persuasion, by...|\n",
      "|﻿\\n\\n\\n          ...|Austen| pride and prejud...|[, pride, and, pr...|\n",
      "+--------------------+------+--------------------+--------------------+\n",
      "only showing top 3 rows\n",
      "\n"
     ]
    }
   ],
   "source": [
    "# Splitting text into individual words\n",
    "#This is necessary in order to break the literature into more managable segments, or 'chunks' in training and processing \n",
    "\n",
    "#this code literally splits the text based on where whitespaces are found in the text\n",
    "df_tokens = book_df_clean.withColumn(\"tokens\", split(book_df_clean.clean_text, \" \"))\n",
    "df_tokens.show(3)"
   ]
  },
  {
   "cell_type": "code",
   "execution_count": 14,
   "id": "060922cd-b880-4a17-ba2f-ecfae63dad94",
   "metadata": {
    "scrolled": true
   },
   "outputs": [
    {
     "name": "stdout",
     "output_type": "stream",
     "text": [
      "+------+--------------------------------------------------------------------------------------------------------------------------------------------------------------------------------------------------------------------------------------------------------------------------------------------------------------------------------------------------------------------------------------------------------------------------------------------------------------------------------------------------------------------------------------------------------------------------------------------------------------------------------------------------------------------------------------------------------------------------------------------------------------------------------------------------------------------------------------------------------------------------------------------------------------------------------------------------------------------------------------------------------------------------------------------------------------------------------------------------------------------------------------------------------------------------------------------------------------------------------------------------------------------------------------------------------------------------------------------------------------------------------------------------------------------------------------------------------------------------------------------------------------------------------------------------------------------------------------------------------------------------------------------------------------------------------------------------------------------------------------------------------------------------------------------------------------------------------------------------------------------------------------------------------------------------------------------------------------------------------------------------------------------------------------------------------------------------------------------------------------------------------------------------------------------------------------------------------------------------------------------------------------------------------------------------------------------------------------------------------------------------------------------------------------------------------------------------------------------------------------------------------------------------------------------------------------------------------------------------------------------------------------------------------------------------------------------------------------------------------------------------------------------------------------------------------------------------------------------------------------------------------------------------------------------------------------------------------------------------------------------------------------------------------------------------------------------------------------------------------------------------------------------------------------------------------------------------------------------------------------------------------------------------------------------------------------------------------------------------------------------------------------------------------------------------------------------------------------------------------------------------------------------------------------------------------------+\n",
      "|author|chunk                                                                                                                                                                                                                                                                                                                                                                                                                                                                                                                                                                                                                                                                                                                                                                                                                                                                                                                                                                                                                                                                                                                                                                                                                                                                                                                                                                                                                                                                                                                                                                                                                                                                                                                                                                                                                                                                                                                                                                                                                                                                                                                                                                                                                                                                                                                                                                                                                                                                                                                                                                                                                                                                                                                                                                                                                                                                                                                                                                                                                                                                                                                                                                                                                                                                                                                                                                                                                                                                                                                                                         |\n",
      "+------+--------------------------------------------------------------------------------------------------------------------------------------------------------------------------------------------------------------------------------------------------------------------------------------------------------------------------------------------------------------------------------------------------------------------------------------------------------------------------------------------------------------------------------------------------------------------------------------------------------------------------------------------------------------------------------------------------------------------------------------------------------------------------------------------------------------------------------------------------------------------------------------------------------------------------------------------------------------------------------------------------------------------------------------------------------------------------------------------------------------------------------------------------------------------------------------------------------------------------------------------------------------------------------------------------------------------------------------------------------------------------------------------------------------------------------------------------------------------------------------------------------------------------------------------------------------------------------------------------------------------------------------------------------------------------------------------------------------------------------------------------------------------------------------------------------------------------------------------------------------------------------------------------------------------------------------------------------------------------------------------------------------------------------------------------------------------------------------------------------------------------------------------------------------------------------------------------------------------------------------------------------------------------------------------------------------------------------------------------------------------------------------------------------------------------------------------------------------------------------------------------------------------------------------------------------------------------------------------------------------------------------------------------------------------------------------------------------------------------------------------------------------------------------------------------------------------------------------------------------------------------------------------------------------------------------------------------------------------------------------------------------------------------------------------------------------------------------------------------------------------------------------------------------------------------------------------------------------------------------------------------------------------------------------------------------------------------------------------------------------------------------------------------------------------------------------------------------------------------------------------------------------------------------------------------------------+\n",
      "|Austen|[, northanger, abbey, by, jane, austen, contents, advertisement, by, the, authoress, to, northanger, abbey, chapter, chapter, chapter, chapter, chapter, chapter, chapter, chapter, chapter, chapter, chapter, chapter, chapter, chapter, chapter, chapter, chapter, chapter, chapter, chapter, chapter, chapter, chapter, chapter, chapter, chapter, chapter, chapter, chapter, chapter, chapter, a, note, on, the, text, advertisement, by, the, authoress, to, northanger, abbey, this, little, work, was, finished, in, the, year, and, intended, for, immediate, publication, it, was, disposed, of, to, a, bookseller, it, was, even, advertised, and, why, the, business, proceeded, no, farther, the, author, has, never, been, able, to, learn, that, any, bookseller, should, think, it, worthwhile, to, purchase, what, he, did, not, think, it, worthwhile, to, publish, seems, extraordinary, but, with, this, neither, the, author, nor, the, public, have, any, other, concern, than, as, some, observation, is, necessary, upon, those, parts, of, the, work, which, thirteen, years, have, made, comparatively, obsolete, the, public, are, entreated, to, bear, in, mind, that, thirteen, years, have, passed, since, it, was, finished, many, more, since, it, was, begun, and, that, during, that, period, places, manners, books, and, opinions, have, undergone, considerable, changes, chapter, no, one, who, had, ever, seen, catherine, morland, in, her, infancy, would, have, supposed, her, born, to, be, an, heroine, her, situation, in, life, the, character, of, her, father, and, mother, her, own, person, and, disposition, were, all, equally, against, her, her, father, was, a, clergyman, without, being, neglected, or, poor, and, a, very, respectable, man, though, his, name, was, richardand, he, had, never, been, handsome, he, had, a, considerable, independence, besides, two, good, livingsand, he, was, not, in, the, least, addicted, to, locking, up, his, daughters, her, mother, was, a, woman, of, useful, plain, sense, with, a, good, temper, and, what, is, more, remarkable, with, a, good, constitution, she, had, three, sons, before, catherine, was, born, and, instead, of, dying, in, bringing, the, latter, into, the, world, as, anybody, might, expect, she, still, lived, onlived, to, have, six, children, moreto, see, them, growing, up, around, her, and, to, enjoy, excellent, health, herself, a, family, of, ten, children, will, be, always, called, a, fine, family, where, there, are, heads, and, arms, and, legs, enough, for, the, number, but, the, morlands, had, little, other, right, to, the, word, for, they, were, in, general, very, plain, and, catherine, for, many, years, of, her, life, as, plain, as, any, she, had, a, thin, awkward, figure, a, sallow, skin, without, colour, dark, lank, hair, and, strong, featuresso, much, for, her, person, and, not, less, unpropitious, for, heroism, seemed, her, mind, she, was, fond, of, all, boys, plays, and, greatly, preferred, cricket, not, merely, to, dolls, but, to, the, more, heroic, enjoyments, of, infancy, nursing, a, dormouse, feeding, a, canarybird, or, watering, a, rosebush, indeed, she, had, no, taste, for, a, garden, and, if, she, gathered, flowers, at, all, it, was, chiefly, for, the, pleasure, of, mischiefat, least, so, it, was, conjectured, from, her, always, preferring, those, which, she, was, forbidden, to, take, such, were, her, propensitiesher, abilities, were]|\n",
      "|Austen|[been, handsome, he, had, a, considerable, independence, besides, two, good, livingsand, he, was, not, in, the, least, addicted, to, locking, up, his, daughters, her, mother, was, a, woman, of, useful, plain, sense, with, a, good, temper, and, what, is, more, remarkable, with, a, good, constitution, she, had, three, sons, before, catherine, was, born, and, instead, of, dying, in, bringing, the, latter, into, the, world, as, anybody, might, expect, she, still, lived, onlived, to, have, six, children, moreto, see, them, growing, up, around, her, and, to, enjoy, excellent, health, herself, a, family, of, ten, children, will, be, always, called, a, fine, family, where, there, are, heads, and, arms, and, legs, enough, for, the, number, but, the, morlands, had, little, other, right, to, the, word, for, they, were, in, general, very, plain, and, catherine, for, many, years, of, her, life, as, plain, as, any, she, had, a, thin, awkward, figure, a, sallow, skin, without, colour, dark, lank, hair, and, strong, featuresso, much, for, her, person, and, not, less, unpropitious, for, heroism, seemed, her, mind, she, was, fond, of, all, boys, plays, and, greatly, preferred, cricket, not, merely, to, dolls, but, to, the, more, heroic, enjoyments, of, infancy, nursing, a, dormouse, feeding, a, canarybird, or, watering, a, rosebush, indeed, she, had, no, taste, for, a, garden, and, if, she, gathered, flowers, at, all, it, was, chiefly, for, the, pleasure, of, mischiefat, least, so, it, was, conjectured, from, her, always, preferring, those, which, she, was, forbidden, to, take, such, were, her, propensitiesher, abilities, were, quite, as, extraordinary, she, never, could, learn, or, understand, anything, before, she, was, taught, and, sometimes, not, even, then, for, she, was, often, inattentive, and, occasionally, stupid, her, mother, was, three, months, in, teaching, her, only, to, repeat, the, beggars, petition, and, after, all, her, next, sister, sally, could, say, it, better, than, she, did, not, that, catherine, was, always, stupidby, no, means, she, learnt, the, fable, of, the, hare, and, many, friends, as, quickly, as, any, girl, in, england, her, mother, wished, her, to, learn, music, and, catherine, was, sure, she, should, like, it, for, she, was, very, fond, of, tinkling, the, keys, of, the, old, forlorn, spinnet, so, at, eight, years, old, she, began, she, learnt, a, year, and, could, not, bear, it, and, mrs, morland, who, did, not, insist, on, her, daughters, being, accomplished, in, spite, of, incapacity, or, distaste, allowed, her, to, leave, off, the, day, which, dismissed, the, musicmaster, was, one, of, the, happiest, of, catherines, life, her, taste, for, drawing, was, not, superior, though, whenever, she, could, obtain, the, outside, of, a, letter, from, her, mother, or, seize, upon, any, other, odd, piece, of, paper, she, did, what, she, could, in, that, way, by, drawing, houses, and, trees, hens, and, chickens, all, very, much, like, one, another, writing, and, accounts, she, was, taught, by, her, father, french, by, her, mother, her, proficiency, in, either, was, not, remarkable, and, she, shirked, her, lessons, in, both, whenever, she, could, what, a, strange, unaccountable, characterfor, with, all]                                                                                                                                                              |\n",
      "|Austen|[quite, as, extraordinary, she, never, could, learn, or, understand, anything, before, she, was, taught, and, sometimes, not, even, then, for, she, was, often, inattentive, and, occasionally, stupid, her, mother, was, three, months, in, teaching, her, only, to, repeat, the, beggars, petition, and, after, all, her, next, sister, sally, could, say, it, better, than, she, did, not, that, catherine, was, always, stupidby, no, means, she, learnt, the, fable, of, the, hare, and, many, friends, as, quickly, as, any, girl, in, england, her, mother, wished, her, to, learn, music, and, catherine, was, sure, she, should, like, it, for, she, was, very, fond, of, tinkling, the, keys, of, the, old, forlorn, spinnet, so, at, eight, years, old, she, began, she, learnt, a, year, and, could, not, bear, it, and, mrs, morland, who, did, not, insist, on, her, daughters, being, accomplished, in, spite, of, incapacity, or, distaste, allowed, her, to, leave, off, the, day, which, dismissed, the, musicmaster, was, one, of, the, happiest, of, catherines, life, her, taste, for, drawing, was, not, superior, though, whenever, she, could, obtain, the, outside, of, a, letter, from, her, mother, or, seize, upon, any, other, odd, piece, of, paper, she, did, what, she, could, in, that, way, by, drawing, houses, and, trees, hens, and, chickens, all, very, much, like, one, another, writing, and, accounts, she, was, taught, by, her, father, french, by, her, mother, her, proficiency, in, either, was, not, remarkable, and, she, shirked, her, lessons, in, both, whenever, she, could, what, a, strange, unaccountable, characterfor, with, all, these, symptoms, of, profligacy, at, ten, years, old, she, had, neither, a, bad, heart, nor, a, bad, temper, was, seldom, stubborn, scarcely, ever, quarrelsome, and, very, kind, to, the, little, ones, with, few, interruptions, of, tyranny, she, was, moreover, noisy, and, wild, hated, confinement, and, cleanliness, and, loved, nothing, so, well, in, the, world, as, rolling, down, the, green, slope, at, the, back, of, the, house, such, was, catherine, morland, at, ten, at, fifteen, appearances, were, mending, she, began, to, curl, her, hair, and, long, for, balls, her, complexion, improved, her, features, were, softened, by, plumpness, and, colour, her, eyes, gained, more, animation, and, her, figure, more, consequence, her, love, of, dirt, gave, way, to, an, inclination, for, finery, and, she, grew, clean, as, she, grew, smart, she, had, now, the, pleasure, of, sometimes, hearing, her, father, and, mother, remark, on, her, personal, improvement, catherine, grows, quite, a, goodlooking, girlshe, is, almost, pretty, today, were, words, which, caught, her, ears, now, and, then, and, how, welcome, were, the, sounds, to, look, almost, pretty, is, an, acquisition, of, higher, delight, to, a, girl, who, has, been, looking, plain, the, first, fifteen, years, of, her, life, than, a, beauty, from, her, cradle, can, ever, receive, mrs, morland, was, a, very, good, woman, and, wished, to, see, her, children, everything, they, ought, to, be, but, her, time, was, so, much, occupied, in, lyingin, and, teaching, the, little, ones, that, her, elder, daughters, were, inevitably, left, to, shift, for, themselves, and, it, was, not]                                                                                                                                                           |\n",
      "|Austen|[these, symptoms, of, profligacy, at, ten, years, old, she, had, neither, a, bad, heart, nor, a, bad, temper, was, seldom, stubborn, scarcely, ever, quarrelsome, and, very, kind, to, the, little, ones, with, few, interruptions, of, tyranny, she, was, moreover, noisy, and, wild, hated, confinement, and, cleanliness, and, loved, nothing, so, well, in, the, world, as, rolling, down, the, green, slope, at, the, back, of, the, house, such, was, catherine, morland, at, ten, at, fifteen, appearances, were, mending, she, began, to, curl, her, hair, and, long, for, balls, her, complexion, improved, her, features, were, softened, by, plumpness, and, colour, her, eyes, gained, more, animation, and, her, figure, more, consequence, her, love, of, dirt, gave, way, to, an, inclination, for, finery, and, she, grew, clean, as, she, grew, smart, she, had, now, the, pleasure, of, sometimes, hearing, her, father, and, mother, remark, on, her, personal, improvement, catherine, grows, quite, a, goodlooking, girlshe, is, almost, pretty, today, were, words, which, caught, her, ears, now, and, then, and, how, welcome, were, the, sounds, to, look, almost, pretty, is, an, acquisition, of, higher, delight, to, a, girl, who, has, been, looking, plain, the, first, fifteen, years, of, her, life, than, a, beauty, from, her, cradle, can, ever, receive, mrs, morland, was, a, very, good, woman, and, wished, to, see, her, children, everything, they, ought, to, be, but, her, time, was, so, much, occupied, in, lyingin, and, teaching, the, little, ones, that, her, elder, daughters, were, inevitably, left, to, shift, for, themselves, and, it, was, not, very, wonderful, that, catherine, who, had, by, nature, nothing, heroic, about, her, should, prefer, cricket, baseball, riding, on, horseback, and, running, about, the, country, at, the, age, of, fourteen, to, booksor, at, least, books, of, informationfor, provided, that, nothing, like, useful, knowledge, could, be, gained, from, them, provided, they, were, all, story, and, no, reflection, she, had, never, any, objection, to, books, at, all, but, from, fifteen, to, seventeen, she, was, in, training, for, a, heroine, she, read, all, such, works, as, heroines, must, read, to, supply, their, memories, with, those, quotations, which, are, so, serviceable, and, so, soothing, in, the, vicissitudes, of, their, eventful, lives, from, pope, she, learnt, to, censure, those, who, bear, about, the, mockery, of, woe, from, gray, that, many, a, flower, is, born, to, blush, unseen, and, waste, its, fragrance, on, the, desert, air, from, thomson, that, it, is, a, delightful, task, to, teach, the, young, idea, how, to, shoot, and, from, shakespeare, she, gained, a, great, store, of, informationamongst, the, rest, that, trifles, light, as, air, are, to, the, jealous, confirmation, strong, as, proofs, of, holy, writ, that, the, poor, beetle, which, we, tread, upon, in, corporal, sufferance, feels, a, pang, as, great, as, when, a, giant, dies, and, that, a, young, woman, in, love, always, looks, like, patience, on, a, monument, smiling, at, grief, so, far, her, improvement, was, sufficientand, in, many, other, points, she, came, on, exceedingly, well, for, though, she, could, not, write, sonnets, she, brought, herself, to, read, them, and]                                                                                                                                      |\n",
      "|Austen|[very, wonderful, that, catherine, who, had, by, nature, nothing, heroic, about, her, should, prefer, cricket, baseball, riding, on, horseback, and, running, about, the, country, at, the, age, of, fourteen, to, booksor, at, least, books, of, informationfor, provided, that, nothing, like, useful, knowledge, could, be, gained, from, them, provided, they, were, all, story, and, no, reflection, she, had, never, any, objection, to, books, at, all, but, from, fifteen, to, seventeen, she, was, in, training, for, a, heroine, she, read, all, such, works, as, heroines, must, read, to, supply, their, memories, with, those, quotations, which, are, so, serviceable, and, so, soothing, in, the, vicissitudes, of, their, eventful, lives, from, pope, she, learnt, to, censure, those, who, bear, about, the, mockery, of, woe, from, gray, that, many, a, flower, is, born, to, blush, unseen, and, waste, its, fragrance, on, the, desert, air, from, thomson, that, it, is, a, delightful, task, to, teach, the, young, idea, how, to, shoot, and, from, shakespeare, she, gained, a, great, store, of, informationamongst, the, rest, that, trifles, light, as, air, are, to, the, jealous, confirmation, strong, as, proofs, of, holy, writ, that, the, poor, beetle, which, we, tread, upon, in, corporal, sufferance, feels, a, pang, as, great, as, when, a, giant, dies, and, that, a, young, woman, in, love, always, looks, like, patience, on, a, monument, smiling, at, grief, so, far, her, improvement, was, sufficientand, in, many, other, points, she, came, on, exceedingly, well, for, though, she, could, not, write, sonnets, she, brought, herself, to, read, them, and, though, there, seemed, no, chance, of, her, throwing, a, whole, party, into, raptures, by, a, prelude, on, the, pianoforte, of, her, own, composition, she, could, listen, to, other, peoples, performance, with, very, little, fatigue, her, greatest, deficiency, was, in, the, pencilshe, had, no, notion, of, drawingnot, enough, even, to, attempt, a, sketch, of, her, lovers, profile, that, she, might, be, detected, in, the, design, there, she, fell, miserably, short, of, the, true, heroic, height, at, present, she, did, not, know, her, own, poverty, for, she, had, no, lover, to, portray, she, had, reached, the, age, of, seventeen, without, having, seen, one, amiable, youth, who, could, call, forth, her, sensibility, without, having, inspired, one, real, passion, and, without, having, excited, even, any, admiration, but, what, was, very, moderate, and, very, transient, this, was, strange, indeed, but, strange, things, may, be, generally, accounted, for, if, their, cause, be, fairly, searched, out, there, was, not, one, lord, in, the, neighbourhood, nonot, even, a, baronet, there, was, not, one, family, among, their, acquaintance, who, had, reared, and, supported, a, boy, accidentally, found, at, their, doornot, one, young, man, whose, origin, was, unknown, her, father, had, no, ward, and, the, squire, of, the, parish, no, children, but, when, a, young, lady, is, to, be, a, heroine, the, perverseness, of, forty, surrounding, families, cannot, prevent, her, something, must, and, will, happen, to, throw, a, hero, in, her, way, mr, allen, who, owned, the, chief, of, the, property, about, fullerton, the, village, in, wiltshire, where, the, morlands]                                                                                                           |\n",
      "+------+--------------------------------------------------------------------------------------------------------------------------------------------------------------------------------------------------------------------------------------------------------------------------------------------------------------------------------------------------------------------------------------------------------------------------------------------------------------------------------------------------------------------------------------------------------------------------------------------------------------------------------------------------------------------------------------------------------------------------------------------------------------------------------------------------------------------------------------------------------------------------------------------------------------------------------------------------------------------------------------------------------------------------------------------------------------------------------------------------------------------------------------------------------------------------------------------------------------------------------------------------------------------------------------------------------------------------------------------------------------------------------------------------------------------------------------------------------------------------------------------------------------------------------------------------------------------------------------------------------------------------------------------------------------------------------------------------------------------------------------------------------------------------------------------------------------------------------------------------------------------------------------------------------------------------------------------------------------------------------------------------------------------------------------------------------------------------------------------------------------------------------------------------------------------------------------------------------------------------------------------------------------------------------------------------------------------------------------------------------------------------------------------------------------------------------------------------------------------------------------------------------------------------------------------------------------------------------------------------------------------------------------------------------------------------------------------------------------------------------------------------------------------------------------------------------------------------------------------------------------------------------------------------------------------------------------------------------------------------------------------------------------------------------------------------------------------------------------------------------------------------------------------------------------------------------------------------------------------------------------------------------------------------------------------------------------------------------------------------------------------------------------------------------------------------------------------------------------------------------------------------------------------------------------------------------------+\n",
      "only showing top 5 rows\n",
      "\n"
     ]
    }
   ],
   "source": [
    "#This section is responsible for breaking the list of words into 'chunks' in sequence, in order to better assist the LSTM and RAG programs in training \n",
    "#to the literature data\n",
    "\n",
    "#Some tuning was involved in tbhis in order to try and raise the accuracy of the stylometric algorithm.\n",
    "\n",
    "# Explode tokens into smaller chunks\n",
    "chunk_size = 500 #=77% accuracy and 96% practical predictions\n",
    "stride= 250\n",
    "\n",
    "\n",
    "#Version 2\n",
    "def chunk_tokens(tokens, chunk_size=chunk_size, stride=stride):\n",
    "    chunks = []\n",
    "    for i in range(0, len(tokens) - chunk_size + 1, stride):\n",
    "        chunks.append(tokens[i:i+chunk_size])\n",
    "    return chunks\n",
    "\n",
    "# UDF (User Defined Function) for Spark\n",
    "chunk_tokens_udf = udf(lambda x: chunk_tokens(x), ArrayType(ArrayType(StringType())))  #58% accuracy\n",
    "# Apply chunking\n",
    "df_chunks = df_tokens.withColumn(\"chunks\", chunk_tokens_udf(col(\"tokens\")))\n",
    "# 'Explode' into rows\n",
    "df_exploded = df_chunks.select(col(\"author\"), explode(col(\"chunks\")).alias(\"chunk\"))\n",
    "df_exploded.show(5, truncate=False)\n",
    "\n",
    "\n",
    "\n",
    "\n",
    "# This section chunks the raw texts in order to present them via the chatbot\n",
    "def chunk_raw_text(text, chunk_size=chunk_size, stride=stride):\n",
    "    text = text.replace(\"\\n\", \" \")\n",
    "    chunks = []\n",
    "    for i in range(0, len(text) - chunk_size + 1, stride):\n",
    "        chunks.append(text[i:i+chunk_size])  # take raw slice, no .split()\n",
    "    return chunks\n",
    "    \n",
    "chunk_raw_udf = udf(lambda x: chunk_raw_text(x), ArrayType(StringType()))\n",
    "\n",
    "df_chunks_raw = book_df.withColumn(\"chunks_raw\", chunk_raw_udf(col(\"text\")))\n",
    "df_exploded_raw = df_chunks_raw.select(col(\"author\"), explode(col(\"chunks_raw\")).alias(\"chunk\"))\n"
   ]
  },
  {
   "cell_type": "code",
   "execution_count": 15,
   "id": "6114c57e-d2ce-41be-b040-ccfef5444ec9",
   "metadata": {},
   "outputs": [
    {
     "name": "stdout",
     "output_type": "stream",
     "text": [
      "Spark session is active. Version: 3.2.1\n"
     ]
    }
   ],
   "source": [
    "# Check if spark instance exists and is active, during development this proved to be a recurring issue due to hardware limitations.\n",
    "try:\n",
    "    spark.version  # this will fail if spark is not active\n",
    "    print(\"Spark session is active. Version:\", spark.version)\n",
    "except NameError:\n",
    "    print(\"Spark session not defined. Please start it.\")\n",
    "except Exception as e:\n",
    "    print(\"Spark session exists but not active:\", e)\n"
   ]
  },
  {
   "cell_type": "code",
   "execution_count": null,
   "id": "c2dfceba-0fe9-46dd-9c61-b2c74f95ab6c",
   "metadata": {},
   "outputs": [],
   "source": [
    "#Exploratory Data Analysis"
   ]
  },
  {
   "cell_type": "code",
   "execution_count": 16,
   "id": "52ffc168-6796-48e9-9e1d-d2d91cd92961",
   "metadata": {},
   "outputs": [
    {
     "name": "stdout",
     "output_type": "stream",
     "text": [
      "Total number of tokenized chunks: 14732\n",
      "Total number of raw text chunks: 82463\n"
     ]
    }
   ],
   "source": [
    "#this section is (Obviously) used to display the current working total of chunks, both in the 'processed' text data and the 'raw' texts\n",
    "\n",
    "# Total number of tokenized chunks\n",
    "total_token_chunks = df_exploded.count()\n",
    "print(f\"Total number of tokenized chunks: {total_token_chunks}\")\n",
    "\n",
    "# Total number of raw text chunks\n",
    "total_raw_chunks = df_exploded_raw.count()\n",
    "print(f\"Total number of raw text chunks: {total_raw_chunks}\")\n",
    "\n",
    "\n"
   ]
  },
  {
   "cell_type": "code",
   "execution_count": 17,
   "id": "8172a7f6-623d-4153-a475-97851685c519",
   "metadata": {},
   "outputs": [
    {
     "name": "stdout",
     "output_type": "stream",
     "text": [
      "+-----------+-----+\n",
      "|     author|count|\n",
      "+-----------+-----+\n",
      "|     Austen| 1632|\n",
      "|    Dickens| 2900|\n",
      "|      Eliot| 2088|\n",
      "|   Melville| 1460|\n",
      "|Shakespeare| 3850|\n",
      "|    Shelley| 1502|\n",
      "|      Twain| 1300|\n",
      "+-----------+-----+\n",
      "\n"
     ]
    }
   ],
   "source": [
    "#this displays how many chunks are attributed to different authors\n",
    "df_exploded.groupBy(\"author\").count().show()\n"
   ]
  },
  {
   "cell_type": "code",
   "execution_count": null,
   "id": "e90eefba-8056-4f0e-8ffc-116f9171c605",
   "metadata": {},
   "outputs": [],
   "source": []
  },
  {
   "cell_type": "code",
   "execution_count": 18,
   "id": "4e5b7f96-da49-4482-8854-ac7471621ccd",
   "metadata": {},
   "outputs": [],
   "source": [
    "#Due to imbalance concerns in training, I attempted to reduce each Author to having the same number of chunks in order to try and increase \n",
    "#'fair' generalisation.\n",
    "\n",
    "# Smallest class size\n",
    "min_count = df_exploded.groupBy(\"author\").count().agg({\"count\": \"min\"}).collect()[0][0]\n",
    "\n",
    "# Sample each author to the same size\n",
    "balanced = df_exploded.groupBy(\"author\").applyInPandas(\n",
    "    lambda pdf: pdf.sample(n=min_count, random_state=69),\n",
    "    schema=df_exploded.schema\n",
    ")\n"
   ]
  },
  {
   "cell_type": "code",
   "execution_count": 19,
   "id": "bc9897bd-2614-426b-9be0-37a79f68c55b",
   "metadata": {},
   "outputs": [
    {
     "name": "stdout",
     "output_type": "stream",
     "text": [
      "+-----------+-----+\n",
      "|     author|count|\n",
      "+-----------+-----+\n",
      "|    Shelley| 1300|\n",
      "|     Austen| 1300|\n",
      "|   Melville| 1300|\n",
      "|    Dickens| 1300|\n",
      "|      Eliot| 1300|\n",
      "|      Twain| 1300|\n",
      "|Shakespeare| 1300|\n",
      "+-----------+-----+\n",
      "\n"
     ]
    }
   ],
   "source": [
    "balanced.groupBy(\"author\").count().show()\n"
   ]
  },
  {
   "cell_type": "code",
   "execution_count": 20,
   "id": "b37d4642-0931-4f45-9125-d730efd4c9f5",
   "metadata": {},
   "outputs": [
    {
     "name": "stdout",
     "output_type": "stream",
     "text": [
      "Total number of balanced chunks: 9100\n"
     ]
    }
   ],
   "source": [
    "\n",
    "# Total number of tokenized chunks\n",
    "total_token_chunks = balanced.count()\n",
    "print(f\"Total number of balanced chunks: {total_token_chunks}\")\n",
    "\n"
   ]
  },
  {
   "cell_type": "code",
   "execution_count": 41,
   "id": "5a1a0f77-3c6d-4034-aea9-cc47db360b14",
   "metadata": {
    "scrolled": true
   },
   "outputs": [
    {
     "data": {
      "image/png": "[encoded data removed]",
      "text/plain": [
       "<Figure size 640x480 with 1 Axes>"
      ]
     },
     "metadata": {},
     "output_type": "display_data"
    }
   ],
   "source": [
    "#Data visualisation to represent the distribution of chunks by author before balancing\n",
    "\n",
    "author_counts = df_exploded.groupBy(\"author\").count().toPandas()\n",
    "author_counts.plot(kind='bar', x='author', y='count', legend=False)\n",
    "plt.ylabel(\"Number of Chunks\")\n",
    "plt.title(\"Chunk Distribution by Author before Balancing\")\n",
    "plt.show()\n"
   ]
  },
  {
   "cell_type": "code",
   "execution_count": 42,
   "id": "03c2d291-000e-4c0a-8a4f-a0aee777909e",
   "metadata": {
    "scrolled": true
   },
   "outputs": [
    {
     "data": {
      "image/png": "[encoded data removed]",
      "text/plain": [
       "<Figure size 640x480 with 1 Axes>"
      ]
     },
     "metadata": {},
     "output_type": "display_data"
    }
   ],
   "source": [
    "#Data visualisation to represent the distribution of chunks by author After balancing\n",
    "\n",
    "author_counts = balanced.groupBy(\"author\").count().toPandas()\n",
    "author_counts.plot(kind='bar', x='author', y='count', legend=False)\n",
    "plt.ylabel(\"Number of Chunks\")\n",
    "plt.title(\"Chunk Distribution by Author after Balancing\")\n",
    "plt.show()\n"
   ]
  },
  {
   "cell_type": "code",
   "execution_count": null,
   "id": "6c56ed91-6b86-4a71-8ebb-f22f2b65a759",
   "metadata": {},
   "outputs": [],
   "source": []
  },
  {
   "cell_type": "code",
   "execution_count": 23,
   "id": "f7625a25-e315-470b-befd-1d6f03ac1db7",
   "metadata": {
    "scrolled": true
   },
   "outputs": [],
   "source": [
    "#This section involves ACTUAL tokenisation\n",
    "\n",
    "# Collect all chunks into Python list\n",
    "chunks = [ \" \".join(row.chunk) for row in df_exploded.collect() ]\n",
    "authors = [row.author for row in df_exploded.collect()]\n",
    "\n",
    "# Tokenize\n",
    "tokenizerLSTM = Tokenizer()\n",
    "tokenizerLSTM.fit_on_texts(chunks)\n",
    "sequences = tokenizerLSTM.texts_to_sequences(chunks)\n",
    "\n",
    "# Pad sequences to fixed length\n",
    "max_len = 200\n",
    "X = pad_sequences(sequences, maxlen=max_len)\n"
   ]
  },
  {
   "cell_type": "code",
   "execution_count": 24,
   "id": "32ed2d1f-7329-49e2-88e1-503416dd3260",
   "metadata": {},
   "outputs": [],
   "source": [
    "#Encoding labels (Authors)\n",
    "\n",
    "# Encode author names into integers\n",
    "label_encoder = LabelEncoder()\n",
    "y = label_encoder.fit_transform(authors)\n",
    "\n",
    "# One-hot encode labels (for softmax output)\n",
    "y = to_categorical(y)\n",
    "\n",
    "num_classes = y.shape[1]\n"
   ]
  },
  {
   "cell_type": "markdown",
   "id": "030df0ca-792e-42a6-9968-370b4cd55279",
   "metadata": {},
   "source": [
    "#SECTION 3: Training LSTM\n",
    "\n",
    "This section is responsible for trainign the LSTM classifier model. however, various models have already beem pretrained, and thus this code can be skipped, save for the \"predict_author\" function which is necessary for later processes.\n",
    "\n"
   ]
  },
  {
   "cell_type": "code",
   "execution_count": 25,
   "id": "c88f7cca-0d23-4fb8-bc28-81d6a785e3f5",
   "metadata": {},
   "outputs": [],
   "source": [
    "#TRAINING\n",
    "\n",
    "\n",
    "from sklearn.model_selection import train_test_split\n",
    "\n",
    "X_train, X_test, y_train, y_test = train_test_split(\n",
    "    X, y, test_size=0.2, random_state=69, stratify=y\n",
    ")\n"
   ]
  },
  {
   "cell_type": "code",
   "execution_count": 26,
   "id": "c5ece0bf-7946-41f6-92b1-2f359f4e31b5",
   "metadata": {},
   "outputs": [
    {
     "name": "stdout",
     "output_type": "stream",
     "text": [
      "Model: \"sequential\"\n",
      "_________________________________________________________________\n",
      " Layer (type)                Output Shape              Param #   \n",
      "=================================================================\n",
      " embedding (Embedding)       (None, 200, 128)          9804288   \n",
      "                                                                 \n",
      " lstm (LSTM)                 (None, 128)               131584    \n",
      "                                                                 \n",
      " dropout (Dropout)           (None, 128)               0         \n",
      "                                                                 \n",
      " dense (Dense)               (None, 64)                8256      \n",
      "                                                                 \n",
      " dropout_1 (Dropout)         (None, 64)                0         \n",
      "                                                                 \n",
      " dense_1 (Dense)             (None, 7)                 455       \n",
      "                                                                 \n",
      "=================================================================\n",
      "Total params: 9,944,583\n",
      "Trainable params: 9,944,583\n",
      "Non-trainable params: 0\n",
      "_________________________________________________________________\n"
     ]
    }
   ],
   "source": [
    "#Building the model:\n",
    "\n",
    "vocab_size = len(tokenizerLSTM.word_index) + 1  # total unique words\n",
    "embedding_dim = 128\n",
    "max_len = 200  # same as your padded length\n",
    "\n",
    "model = Sequential()\n",
    "model.add(Embedding(input_dim=vocab_size, output_dim=embedding_dim, input_length=max_len))\n",
    "model.add(LSTM(128, return_sequences=False))\n",
    "model.add(Dropout(0.3))\n",
    "model.add(Dense(64, activation='relu'))\n",
    "model.add(Dropout(0.3))\n",
    "model.add(Dense(num_classes, activation='softmax'))\n",
    "\n",
    "model.compile(loss='categorical_crossentropy', optimizer='adam', metrics=['accuracy'])\n",
    "model.summary()\n"
   ]
  },
  {
   "cell_type": "code",
   "execution_count": 27,
   "id": "6a1b5a91-e8b5-4321-abe8-a37ef97e661f",
   "metadata": {},
   "outputs": [
    {
     "name": "stdout",
     "output_type": "stream",
     "text": [
      "Epoch 1/5\n",
      "148/148 [==============================] - 64s 416ms/step - loss: 1.5791 - accuracy: 0.3806 - val_loss: 1.3285 - val_accuracy: 0.5006\n",
      "Epoch 2/5\n",
      "148/148 [==============================] - 57s 383ms/step - loss: 0.9747 - accuracy: 0.5804 - val_loss: 0.9205 - val_accuracy: 0.5957\n",
      "Epoch 3/5\n",
      "148/148 [==============================] - 62s 419ms/step - loss: 0.6879 - accuracy: 0.7017 - val_loss: 0.7773 - val_accuracy: 0.6856\n",
      "Epoch 4/5\n",
      "148/148 [==============================] - 62s 418ms/step - loss: 0.4387 - accuracy: 0.8144 - val_loss: 1.2404 - val_accuracy: 0.5999\n",
      "Epoch 5/5\n",
      "148/148 [==============================] - 63s 427ms/step - loss: 0.4933 - accuracy: 0.8053 - val_loss: 0.9589 - val_accuracy: 0.6521\n"
     ]
    }
   ],
   "source": [
    "#Fitting/training the model (TAKES A WHILE)\n",
    "\n",
    "history = model.fit(\n",
    "    X_train, y_train,\n",
    "    validation_split=0.2,\n",
    "    epochs=5, #10,           # try 10–15 for better results\n",
    "    batch_size=64,\n",
    "    verbose=1\n",
    ")\n"
   ]
  },
  {
   "cell_type": "code",
   "execution_count": 28,
   "id": "3ea8b72b-9d8c-45d2-a945-3c1674233430",
   "metadata": {},
   "outputs": [
    {
     "name": "stdout",
     "output_type": "stream",
     "text": [
      "Test Accuracy: 0.65\n"
     ]
    }
   ],
   "source": [
    "#Simple Evaluation\n",
    "loss, acc = model.evaluate(X_test, y_test, verbose=0)\n",
    "print(f\"Test Accuracy: {acc:.2f}\")\n"
   ]
  },
  {
   "cell_type": "code",
   "execution_count": null,
   "id": "545ec31a-9110-42fb-8453-a5a92da6798b",
   "metadata": {},
   "outputs": [],
   "source": []
  },
  {
   "cell_type": "code",
   "execution_count": 29,
   "id": "e4cbe557-7a66-4acf-a3b8-2ca5f2245731",
   "metadata": {},
   "outputs": [],
   "source": [
    "#prediction\n",
    "\n",
    "#This code is for if you want to implement the recently trained model. however, it is unnecessary, since the following block uses a model trained at 76% accuracy.\n",
    "comm=\"\"\"\n",
    "import numpy as np\n",
    "\n",
    "def predict_author(text):\n",
    "    # Clean text\n",
    "    text = clean_text(text)\n",
    "    # Tokenize and pad\n",
    "    seq = tokenizerLSTM.texts_to_sequences([text])\n",
    "    padded = pad_sequences(seq, maxlen=max_len)\n",
    "    # Predict\n",
    "    pred = model.predict(padded, verbose=0)\n",
    "    idx = np.argmax(pred)\n",
    "    author = label_encoder.inverse_transform([idx])[0]\n",
    "    confidence = np.max(pred)\n",
    "    return author, confidence\n",
    "\n",
    "# Example\n",
    "sample = \"It is a truth universally acknowledged, that a single man in possession of a good fortune, must be in want of a wife.\"\n",
    "print(predict_author(sample))\n",
    "#Answer: \"Austen\"\n",
    "\"\"\"\n"
   ]
  },
  {
   "cell_type": "code",
   "execution_count": 31,
   "id": "f77fe17b-80a2-4859-b52d-7f9c309a0de1",
   "metadata": {},
   "outputs": [
    {
     "name": "stdout",
     "output_type": "stream",
     "text": [
      "('Shakespeare', 0.97687805)\n"
     ]
    }
   ],
   "source": [
    "from tensorflow.keras.models import load_model\n",
    "from tensorflow.keras.preprocessing.sequence import pad_sequences\n",
    "\n",
    "# Load LSTM model\n",
    "model = load_model(\"Models/stylometric_modelv2.h5\")\n",
    "\n",
    "def predict_author(text):\n",
    "    # Clean text\n",
    "    text = clean_text(text)\n",
    "    # Tokenize and pad\n",
    "    seq = tokenizerLSTM.texts_to_sequences([text])\n",
    "    padded = pad_sequences(seq, maxlen=max_len)\n",
    "    # Predict\n",
    "    pred = model.predict(padded, verbose=0)\n",
    "    idx = np.argmax(pred)\n",
    "    author = label_encoder.inverse_transform([idx])[0]\n",
    "    confidence = np.max(pred)\n",
    "    return author, confidence\n",
    "\n",
    "    \n",
    "# Example\n",
    "sample = \"It is a truth universally acknowledged, that a single man in possession of a good fortune, must be in want of a wife.\"\n",
    "print(predict_author(sample))\n",
    "#Answer: \"Austen\""
   ]
  },
  {
   "cell_type": "code",
   "execution_count": 32,
   "id": "48728216-a28d-4b2f-9bad-cc7756745e56",
   "metadata": {},
   "outputs": [
    {
     "name": "stdout",
     "output_type": "stream",
     "text": [
      "('Shakespeare', 0.32126513)\n"
     ]
    }
   ],
   "source": [
    "sample = \" \".join([\n",
    "    \"It is a truth universally acknowledged, that a single man in possession of a good fortune, must be in want of a wife.\",\n",
    "    \"However little known the feelings or views of such a man may be on his first entering a neighbourhood...\"\n",
    "])\n",
    "print(predict_author(sample))\n",
    "#Answer: \"Austen\""
   ]
  },
  {
   "cell_type": "code",
   "execution_count": 43,
   "id": "ae9842ce-1efe-4e74-83a2-344f887ced96",
   "metadata": {},
   "outputs": [
    {
     "name": "stdout",
     "output_type": "stream",
     "text": [
      "('Eliot', 0.70781916)\n"
     ]
    }
   ],
   "source": [
    "sample = \"Learn from me, if not by my precepts, at least by my example, how dangerous is the acquirement of knowledge and how much happier that man is who believes his native town to be the world, than he who aspires to become greater than his nature will allow. My life might have been passed in ease and luxury, but I sought knowledge, and it brought me torment. I dared to penetrate the secrets of nature, and I discovered truths which I had no right to know. The result was wretchedness; the desire for power and understanding turned my existence into a curse. You, my friend, must shun such ambition; cultivate contentment in your own sphere and learn to find happiness in what is simple and attainable, for the yearning for forbidden knowledge will lead only to ruin.\"\n",
    "print(predict_author(sample))\n",
    "#Answer: \"Shelley\"\n"
   ]
  },
  {
   "cell_type": "code",
   "execution_count": 34,
   "id": "3dda0913-63d2-4b69-88e1-1fba136348b7",
   "metadata": {},
   "outputs": [
    {
     "name": "stdout",
     "output_type": "stream",
     "text": [
      "('Shelley', 0.9175197)\n"
     ]
    }
   ],
   "source": [
    "sample= \"In her looks and manner she was at once proud and contemptuous of me; yet I thought I detected in her a certain air of being almost weary of contempt for me, as if she were tired of the labor of having me despised by her and cared no more for it. Still, she treated me as before: except that she no longer looked at me with the scornful wonder of how I could have been so weak as to have been betrayed into admiration of her beauty. The change was made in her demeanor, and it deeply penetrated my heart.\"\n",
    "print(predict_author(sample))\n",
    "#Answer: \"Dickens\"\n"
   ]
  },
  {
   "cell_type": "code",
   "execution_count": 35,
   "id": "840516c9-4df8-4cb4-8335-57b529ba312c",
   "metadata": {},
   "outputs": [
    {
     "name": "stdout",
     "output_type": "stream",
     "text": [
      "('Shakespeare', 0.99543685)\n"
     ]
    }
   ],
   "source": [
    "sample = \"My crown is called content, a crown that seldom kings enjoy. There is nothing either good or bad but thinking makes it so. The empty vessel makes the loudest sound. Better three hours too soon than a minute too late. When a father gives to his son, both laugh; when a son gives to his father, both cry.\"\n",
    "print(predict_author(sample))\n",
    "#Answer: \"Shakespeare\"\n"
   ]
  },
  {
   "cell_type": "code",
   "execution_count": 36,
   "id": "967ddf5d-66ca-4aa2-ad83-713c193d1003",
   "metadata": {},
   "outputs": [],
   "source": [
    "# Save model as .h5\n",
    "#cwd\n",
    "model.save(r\"Models/stylometric_modelv3.h5\")"
   ]
  },
  {
   "cell_type": "code",
   "execution_count": null,
   "id": "3dc62835-3c19-4ce6-8c41-1801ea0e7196",
   "metadata": {},
   "outputs": [],
   "source": []
  },
  {
   "cell_type": "code",
   "execution_count": null,
   "id": "89aafd85-87e9-41cc-92eb-d3824eabd3a3",
   "metadata": {},
   "outputs": [],
   "source": []
  },
  {
   "cell_type": "code",
   "execution_count": null,
   "id": "7d4c194e-7653-4c59-9b18-8f350b90526a",
   "metadata": {},
   "outputs": [],
   "source": []
  },
  {
   "cell_type": "code",
   "execution_count": null,
   "id": "eca209e3-051e-47e0-aa00-dbad0ec1b72e",
   "metadata": {},
   "outputs": [],
   "source": []
  },
  {
   "cell_type": "code",
   "execution_count": null,
   "id": "9e946e46-a716-4c34-ab46-6dcbc68348fb",
   "metadata": {},
   "outputs": [],
   "source": []
  },
  {
   "cell_type": "code",
   "execution_count": null,
   "id": "bc3b73d9-33e9-4bc7-805b-e1469ed0969b",
   "metadata": {},
   "outputs": [],
   "source": []
  },
  {
   "cell_type": "markdown",
   "id": "e3a4100d-8989-4888-8156-fe79ef408882",
   "metadata": {},
   "source": [
    "#SECTION 4: RAG/BoW Chatbot\n",
    "\n",
    "The Following section is concerned with the development of a chatbot functionality, that is capable of personalised information, and fun interaction with the user. This model is responsible for acting as an interface with the previous stylometric model, and engaging with the user\n",
    "\n",
    "A couple approaches were considered for this:\n",
    "-1) A rule based retireval chatbot\n",
    "-2) A Retrival-Augmented Chatbot\n",
    "-3) A Generative chatbot (Neural network Agent)\n",
    "\n",
    "I decided that, while the Gen AI agent is enticing, it maybe a bit too system intensive. \n",
    "Thus I decided to train a RAG model on the chunks previously developed for this project, in order to have a stylistically aware chat agent that is still relatively lightweight\n",
    "\n",
    "While I did actually spend time tryiing to make a small generative chatbot, based on the GPT-2 model, I could not get it to work within reason, however the files for said model can still be found in the attached file package.\n",
    "\n",
    "\n",
    "\n"
   ]
  },
  {
   "cell_type": "code",
   "execution_count": null,
   "id": "f662395c-3630-4790-837b-7dc37c833a19",
   "metadata": {},
   "outputs": [],
   "source": []
  },
  {
   "cell_type": "code",
   "execution_count": 37,
   "id": "8b555c87-7301-4846-acdb-28d9c36b93cc",
   "metadata": {},
   "outputs": [],
   "source": [
    "\n",
    "chunks = [row.chunk for row in df_exploded_raw.collect()]\n",
    "authors = [row.author for row in df_exploded_raw.collect()]\n",
    "\n",
    "# Build TF-IDF (Retrieval) index\n",
    "vectorizer = TfidfVectorizer(max_features=5000)\n",
    "X_tfidf = vectorizer.fit_transform(chunks)\n",
    "\n",
    "#Something to note about this is that it uses a BAG of WORDs algorithm to train the chatbot"
   ]
  },
  {
   "cell_type": "code",
   "execution_count": 38,
   "id": "0fef3069-0d58-40ae-947c-3d10867d469e",
   "metadata": {},
   "outputs": [],
   "source": [
    "\n",
    "#Retrieval function definition\n",
    "def retrieve_chunks(query, top_k=3):\n",
    "    query_vec = vectorizer.transform([query])\n",
    "    sims = cosine_similarity(query_vec, X_tfidf).flatten()\n",
    "    top_idx = sims.argsort()[-top_k:][::-1]\n",
    "    return [(chunks[i], authors[i], sims[i]) for i in top_idx]\n"
   ]
  },
  {
   "cell_type": "code",
   "execution_count": 39,
   "id": "1b3a57d4-c849-48ae-9044-0807f9c615dd",
   "metadata": {},
   "outputs": [],
   "source": [
    "#response Logic\n",
    "comm=\"\"\"\n",
    "def rag_chatbot(query):\n",
    "    results = retrieve_chunks(query, top_k=2)\n",
    "    print(\"Relevant passages:\\n\")\n",
    "    for text, author, score in results:\n",
    "        print(f\"Author: {author} | Score: {score:.2f}\")\n",
    "        print(text[:300], \"...\\n\")\n",
    "    # For a prototype, return the most relevant chunk\n",
    "    return f\"{results[0][1]} might say something like:\\n{results[0][0][:500]}\"\n",
    "\"\"\"\n",
    "\n",
    "\n",
    "\n",
    "# RAG + LSTM combined response\n",
    "def rag_chatbot(query):\n",
    "    # 1. Retrieve relevant text chunks\n",
    "    results = retrieve_chunks(query, top_k=2)\n",
    "\n",
    "    # Take the top chunk for generation\n",
    "    best_chunk, chunk_author, score = results[0]\n",
    "\n",
    "    # 2. Predict style/author from user query with LSTM\n",
    "    predicted_author, confidence = predict_author(query)\n",
    "\n",
    "    # 3. Build answer with both signals\n",
    "    response = (\n",
    "        f\"This seems to be in the style of '{predicted_author}', \"\n",
    "        f\"with {confidence:.0%} confidence.\\n\\n\"\n",
    "        f\"- {chunk_author} might say something like:\\n\"\n",
    "        f\"{best_chunk[:500]}\"\n",
    "    )\n",
    "\n",
    "    return response\n"
   ]
  },
  {
   "cell_type": "code",
   "execution_count": 40,
   "id": "3e06303e-d0c7-4991-9fbe-d00a3a0e5ac1",
   "metadata": {},
   "outputs": [
    {
     "name": "stderr",
     "output_type": "stream",
     "text": [
      "C:\\Users\\brice\\anaconda3\\envs\\spark_env\\lib\\site-packages\\tqdm\\auto.py:21: TqdmWarning: IProgress not found. Please update jupyter and ipywidgets. See https://ipywidgets.readthedocs.io/en/stable/user_install.html\n",
      "  from .autonotebook import tqdm as notebook_tqdm\n"
     ]
    },
    {
     "name": "stdout",
     "output_type": "stream",
     "text": [
      "* Running on local URL:  http://127.0.0.1:7865\n",
      "* To create a public link, set `share=True` in `launch()`.\n"
     ]
    },
    {
     "data": {
      "text/html": [
       "<div><iframe src=\"http://127.0.0.1:7865/\" width=\"100%\" height=\"500\" allow=\"autoplay; camera; microphone; clipboard-read; clipboard-write;\" frameborder=\"0\" allowfullscreen></iframe></div>"
      ],
      "text/plain": [
       "<IPython.core.display.HTML object>"
      ]
     },
     "metadata": {},
     "output_type": "display_data"
    },
    {
     "data": {
      "text/plain": []
     },
     "execution_count": 40,
     "metadata": {},
     "output_type": "execute_result"
    }
   ],
   "source": [
    "#Gradio is a web-browser based UI framework that is used frequntly for tech demos on hugginface and github\n",
    "#it works well for our purposes as a means of testing the chatbot...\n",
    "import gradio as gr\n",
    "\n",
    "def chatbot_interface(user_input):\n",
    "    return rag_chatbot(user_input)\n",
    "\n",
    "\n",
    "demo = gr.Interface(\n",
    "    fn=chatbot_interface,\n",
    "    inputs=gr.Textbox(lines=3, placeholder=\"Ask about a book...\", label=\"Your Question\"),\n",
    "    outputs=gr.Textbox(lines=15, label=\"Answer\"),\n",
    "    title=\"Book-Based RAG Chatbot\",\n",
    "    description=\"Ask questions and I’ll retrieve passages from the books dataset.\"\n",
    ")\n",
    "\n",
    "demo.launch()\n"
   ]
  },
  {
   "cell_type": "code",
   "execution_count": null,
   "id": "4a26f94f-76c8-4ba5-b66e-d805d2e3d2f6",
   "metadata": {},
   "outputs": [],
   "source": []
  },
  {
   "cell_type": "code",
   "execution_count": null,
   "id": "c3eebd59-f620-4b50-bcb6-6c41e1228ad0",
   "metadata": {},
   "outputs": [],
   "source": []
  },
  {
   "cell_type": "code",
   "execution_count": null,
   "id": "b9b7c3cb-e598-4e72-8664-531613c6d995",
   "metadata": {},
   "outputs": [],
   "source": []
  },
  {
   "cell_type": "code",
   "execution_count": null,
   "id": "e37018a8-2fdb-408c-b44f-385f9015e709",
   "metadata": {},
   "outputs": [],
   "source": []
  },
  {
   "cell_type": "code",
   "execution_count": null,
   "id": "ffe93468-c7bf-4fc4-9963-fa6cafd182d0",
   "metadata": {},
   "outputs": [],
   "source": []
  },
  {
   "cell_type": "code",
   "execution_count": null,
   "id": "31521038-ddbc-4cff-b58b-ee1bd8ec386f",
   "metadata": {},
   "outputs": [],
   "source": []
  },
  {
   "cell_type": "code",
   "execution_count": null,
   "id": "f38a06f3-9baa-475f-85fa-de24440865ac",
   "metadata": {},
   "outputs": [],
   "source": []
  },
  {
   "cell_type": "code",
   "execution_count": null,
   "id": "b5136ead-4354-4fbf-b998-f0428d6b0c84",
   "metadata": {},
   "outputs": [],
   "source": []
  },
  {
   "cell_type": "code",
   "execution_count": null,
   "id": "4cdb95ab-7afb-44cf-8e3d-915887d3faf8",
   "metadata": {},
   "outputs": [],
   "source": []
  },
  {
   "cell_type": "code",
   "execution_count": null,
   "id": "8ecae7df-c74d-4257-a147-f9b406c16eda",
   "metadata": {},
   "outputs": [],
   "source": []
  },
  {
   "cell_type": "code",
   "execution_count": null,
   "id": "c4f037a8-6626-4651-a0e3-f0515715e3d6",
   "metadata": {},
   "outputs": [],
   "source": [
    "0"
   ]
  }
 ],
 "metadata": {
  "kernelspec": {
   "display_name": "Python (spark_env)",
   "language": "python",
   "name": "spark_env"
  },
  "language_info": {
   "codemirror_mode": {
    "name": "ipython",
    "version": 3
   },
   "file_extension": ".py",
   "mimetype": "text/x-python",
   "name": "python",
   "nbconvert_exporter": "python",
   "pygments_lexer": "ipython3",
   "version": "3.10.18"
  }
 },
 "nbformat": 4,
 "nbformat_minor": 5
}
